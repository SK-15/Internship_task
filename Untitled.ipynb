{
 "cells": [
  {
   "cell_type": "markdown",
   "metadata": {},
   "source": [
    "Q1 Explain Dimension Reduction in machine learning\n",
    "\n",
    "First we need to understand 'Curse of Dimensionality'.Curse of dimensionality refers to the problem which arises when working a data with higher number of dimensions. As the number of feature increase,the model becomes more complex which leads to overfitting \n",
    "resulting in poor perormance on test or real data.\n",
    "\n",
    "Ways to tackle 'Curse of Dimensionality' i.e. Dimension Reduction:\n",
    "1. Feature selection:\n",
    "   Its the process of identifying and selecting relevant features for your sample.Use seaborn heatmap or pandas correlation to find out features with high corellation and delete those columns\n",
    "2. Feature engineering:\n",
    "   its a process of manually generating new features from existing features, by applying some transformation or performing some operation on them.For example in 'housing rents' problem if you columns for area of every part of house you can add it and make one column 'overall_house_area'.\n",
    "3. PCA (Principal Component Analysis):\n",
    "   Popularly used for dimensionality reduction in continuous data, PCA rotates and projects data along the direction of increasing variance. The features with the maximum variance are the principal components.\n"
   ]
  },
  {
   "cell_type": "markdown",
   "metadata": {},
   "source": [
    "Q2 How can you handle duplicate values in a dataset for a variable in Python using pandas?\n",
    "\n",
    "Pandas have inbuilt function to deal with duplicate values\n",
    "1. pandas.dataframe.duplicated(): identifies duplicated        values \n",
    "   for eg: if we have file.csv dataset\n",
    "   \n",
    "   df = pandas.read('file.csv')\n",
    "   \n",
    "   duplicates = df.duplicated()\n",
    "   \n",
    "   df[duplicates] \n",
    "   \n",
    "   Last line returs all the duplicated values\n",
    "\n",
    "\n",
    "2. pandas.dataframe.drop_duplicates(): drops duplicate values\n",
    "   \n",
    "   for eg:for same file.csv dataset\n",
    "   \n",
    "   df.drop_duplicates(inplace=True)\n",
    "   \n",
    "   This line drops all duplicate values"
   ]
  }
 ],
 "metadata": {
  "kernelspec": {
   "display_name": "Python 3",
   "language": "python",
   "name": "python3"
  },
  "language_info": {
   "codemirror_mode": {
    "name": "ipython",
    "version": 3
   },
   "file_extension": ".py",
   "mimetype": "text/x-python",
   "name": "python",
   "nbconvert_exporter": "python",
   "pygments_lexer": "ipython3",
   "version": "3.8.3"
  }
 },
 "nbformat": 4,
 "nbformat_minor": 4
}
